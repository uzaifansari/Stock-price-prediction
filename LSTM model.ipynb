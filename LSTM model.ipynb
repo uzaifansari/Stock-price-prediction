{
 "cells": [
  {
   "cell_type": "code",
   "execution_count": 2,
   "id": "76853b75",
   "metadata": {},
   "outputs": [],
   "source": [
    "# run these commands in terminal before running the code:\n",
    "# pip install numpy\n",
    "# pip install pandas_datareader\n",
    "# pip install yfinance\n",
    "# pip install keras\n",
    "# pip install Tensorflow\n"
   ]
  },
  {
   "cell_type": "code",
   "execution_count": 3,
   "id": "23c99e9e",
   "metadata": {},
   "outputs": [],
   "source": [
    "import numpy as np\n",
    "import pandas as pd\n",
    "import matplotlib.pyplot as plt\n",
    "import pandas_datareader as data"
   ]
  },
  {
   "cell_type": "code",
   "execution_count": 4,
   "id": "a558cea8",
   "metadata": {
    "scrolled": true
   },
   "outputs": [
    {
     "name": "stdout",
     "output_type": "stream",
     "text": [
      "[*********************100%%**********************]  1 of 1 completed\n",
      "<bound method DataFrame.count of                  Open       High        Low      Close  Adj Close     Volume\n",
      "Date                                                                        \n",
      "2010-10-25  11.038929  11.128571  11.015714  11.030000   9.337990  392462000\n",
      "2010-10-26  10.959643  11.062143  10.916071  11.001786   9.314107  392929600\n",
      "2010-10-27  10.987500  11.067857  10.914286  10.993929   9.307455  399002800\n",
      "2010-10-28  10.998214  11.000000  10.746429  10.901429   9.229145  551051200\n",
      "2010-10-29  10.865357  10.924286  10.745357  10.749286   9.100337  430511200\n",
      "...               ...        ...        ...        ...        ...        ...\n",
      "2019-12-16  69.250000  70.197502  69.245003  69.964996  68.075264  128186000\n",
      "2019-12-17  69.892502  70.442497  69.699997  70.102501  68.209068  114158400\n",
      "2019-12-18  69.949997  70.474998  69.779999  69.934998  68.046082  116028400\n",
      "2019-12-19  69.875000  70.294998  69.737503  70.004997  68.114182   98369200\n",
      "2019-12-20  70.557503  70.662498  69.639999  69.860001  67.973122  275978000\n",
      "\n",
      "[2306 rows x 6 columns]>\n"
     ]
    }
   ],
   "source": [
    "import pandas\n",
    "from pandas_datareader import data as pdr\n",
    "import yfinance as yfin\n",
    "\n",
    "\n",
    "yfin.pdr_override()\n",
    "\n",
    "spy = pdr.get_data_yahoo('AAPL', start='2010-10-24', end='2019-12-23')\n",
    "cm=spy.count\n",
    "print(cm)"
   ]
  },
  {
   "cell_type": "code",
   "execution_count": 6,
   "id": "308dd8c8",
   "metadata": {},
   "outputs": [],
   "source": [
    "# !pip install --upgrade pandas-datareader"
   ]
  },
  {
   "cell_type": "code",
   "execution_count": 7,
   "id": "99c7cf32",
   "metadata": {},
   "outputs": [
    {
     "data": {
      "text/html": [
       "<div>\n",
       "<style scoped>\n",
       "    .dataframe tbody tr th:only-of-type {\n",
       "        vertical-align: middle;\n",
       "    }\n",
       "\n",
       "    .dataframe tbody tr th {\n",
       "        vertical-align: top;\n",
       "    }\n",
       "\n",
       "    .dataframe thead th {\n",
       "        text-align: right;\n",
       "    }\n",
       "</style>\n",
       "<table border=\"1\" class=\"dataframe\">\n",
       "  <thead>\n",
       "    <tr style=\"text-align: right;\">\n",
       "      <th></th>\n",
       "      <th>index</th>\n",
       "      <th>Date</th>\n",
       "      <th>Open</th>\n",
       "      <th>High</th>\n",
       "      <th>Low</th>\n",
       "      <th>Close</th>\n",
       "      <th>Adj Close</th>\n",
       "      <th>Volume</th>\n",
       "    </tr>\n",
       "  </thead>\n",
       "  <tbody>\n",
       "    <tr>\n",
       "      <th>0</th>\n",
       "      <td>0</td>\n",
       "      <td>2010-10-25</td>\n",
       "      <td>11.038929</td>\n",
       "      <td>11.128571</td>\n",
       "      <td>11.015714</td>\n",
       "      <td>11.030000</td>\n",
       "      <td>9.337990</td>\n",
       "      <td>392462000</td>\n",
       "    </tr>\n",
       "    <tr>\n",
       "      <th>1</th>\n",
       "      <td>1</td>\n",
       "      <td>2010-10-26</td>\n",
       "      <td>10.959643</td>\n",
       "      <td>11.062143</td>\n",
       "      <td>10.916071</td>\n",
       "      <td>11.001786</td>\n",
       "      <td>9.314107</td>\n",
       "      <td>392929600</td>\n",
       "    </tr>\n",
       "    <tr>\n",
       "      <th>2</th>\n",
       "      <td>2</td>\n",
       "      <td>2010-10-27</td>\n",
       "      <td>10.987500</td>\n",
       "      <td>11.067857</td>\n",
       "      <td>10.914286</td>\n",
       "      <td>10.993929</td>\n",
       "      <td>9.307455</td>\n",
       "      <td>399002800</td>\n",
       "    </tr>\n",
       "    <tr>\n",
       "      <th>3</th>\n",
       "      <td>3</td>\n",
       "      <td>2010-10-28</td>\n",
       "      <td>10.998214</td>\n",
       "      <td>11.000000</td>\n",
       "      <td>10.746429</td>\n",
       "      <td>10.901429</td>\n",
       "      <td>9.229145</td>\n",
       "      <td>551051200</td>\n",
       "    </tr>\n",
       "    <tr>\n",
       "      <th>4</th>\n",
       "      <td>4</td>\n",
       "      <td>2010-10-29</td>\n",
       "      <td>10.865357</td>\n",
       "      <td>10.924286</td>\n",
       "      <td>10.745357</td>\n",
       "      <td>10.749286</td>\n",
       "      <td>9.100337</td>\n",
       "      <td>430511200</td>\n",
       "    </tr>\n",
       "  </tbody>\n",
       "</table>\n",
       "</div>"
      ],
      "text/plain": [
       "   index       Date       Open       High        Low      Close  Adj Close  \\\n",
       "0      0 2010-10-25  11.038929  11.128571  11.015714  11.030000   9.337990   \n",
       "1      1 2010-10-26  10.959643  11.062143  10.916071  11.001786   9.314107   \n",
       "2      2 2010-10-27  10.987500  11.067857  10.914286  10.993929   9.307455   \n",
       "3      3 2010-10-28  10.998214  11.000000  10.746429  10.901429   9.229145   \n",
       "4      4 2010-10-29  10.865357  10.924286  10.745357  10.749286   9.100337   \n",
       "\n",
       "      Volume  \n",
       "0  392462000  \n",
       "1  392929600  \n",
       "2  399002800  \n",
       "3  551051200  \n",
       "4  430511200  "
      ]
     },
     "execution_count": 7,
     "metadata": {},
     "output_type": "execute_result"
    }
   ],
   "source": [
    "spy=spy.reset_index()\n",
    "spy.head()"
   ]
  },
  {
   "cell_type": "code",
   "execution_count": 8,
   "id": "46f915e7",
   "metadata": {},
   "outputs": [
    {
     "data": {
      "text/html": [
       "<div>\n",
       "<style scoped>\n",
       "    .dataframe tbody tr th:only-of-type {\n",
       "        vertical-align: middle;\n",
       "    }\n",
       "\n",
       "    .dataframe tbody tr th {\n",
       "        vertical-align: top;\n",
       "    }\n",
       "\n",
       "    .dataframe thead th {\n",
       "        text-align: right;\n",
       "    }\n",
       "</style>\n",
       "<table border=\"1\" class=\"dataframe\">\n",
       "  <thead>\n",
       "    <tr style=\"text-align: right;\">\n",
       "      <th></th>\n",
       "      <th>index</th>\n",
       "      <th>Open</th>\n",
       "      <th>High</th>\n",
       "      <th>Low</th>\n",
       "      <th>Close</th>\n",
       "      <th>Volume</th>\n",
       "    </tr>\n",
       "  </thead>\n",
       "  <tbody>\n",
       "    <tr>\n",
       "      <th>0</th>\n",
       "      <td>0</td>\n",
       "      <td>11.038929</td>\n",
       "      <td>11.128571</td>\n",
       "      <td>11.015714</td>\n",
       "      <td>11.030000</td>\n",
       "      <td>392462000</td>\n",
       "    </tr>\n",
       "    <tr>\n",
       "      <th>1</th>\n",
       "      <td>1</td>\n",
       "      <td>10.959643</td>\n",
       "      <td>11.062143</td>\n",
       "      <td>10.916071</td>\n",
       "      <td>11.001786</td>\n",
       "      <td>392929600</td>\n",
       "    </tr>\n",
       "    <tr>\n",
       "      <th>2</th>\n",
       "      <td>2</td>\n",
       "      <td>10.987500</td>\n",
       "      <td>11.067857</td>\n",
       "      <td>10.914286</td>\n",
       "      <td>10.993929</td>\n",
       "      <td>399002800</td>\n",
       "    </tr>\n",
       "    <tr>\n",
       "      <th>3</th>\n",
       "      <td>3</td>\n",
       "      <td>10.998214</td>\n",
       "      <td>11.000000</td>\n",
       "      <td>10.746429</td>\n",
       "      <td>10.901429</td>\n",
       "      <td>551051200</td>\n",
       "    </tr>\n",
       "    <tr>\n",
       "      <th>4</th>\n",
       "      <td>4</td>\n",
       "      <td>10.865357</td>\n",
       "      <td>10.924286</td>\n",
       "      <td>10.745357</td>\n",
       "      <td>10.749286</td>\n",
       "      <td>430511200</td>\n",
       "    </tr>\n",
       "  </tbody>\n",
       "</table>\n",
       "</div>"
      ],
      "text/plain": [
       "   index       Open       High        Low      Close     Volume\n",
       "0      0  11.038929  11.128571  11.015714  11.030000  392462000\n",
       "1      1  10.959643  11.062143  10.916071  11.001786  392929600\n",
       "2      2  10.987500  11.067857  10.914286  10.993929  399002800\n",
       "3      3  10.998214  11.000000  10.746429  10.901429  551051200\n",
       "4      4  10.865357  10.924286  10.745357  10.749286  430511200"
      ]
     },
     "execution_count": 8,
     "metadata": {},
     "output_type": "execute_result"
    }
   ],
   "source": [
    "spy=spy.drop(['Date','Adj Close'], axis=1)\n",
    "spy.head()"
   ]
  },
  {
   "cell_type": "code",
   "execution_count": 9,
   "id": "42009ecb",
   "metadata": {},
   "outputs": [
    {
     "data": {
      "text/plain": [
       "[<matplotlib.lines.Line2D at 0x233eba54fb0>]"
      ]
     },
     "execution_count": 9,
     "metadata": {},
     "output_type": "execute_result"
    },
    {
     "data": {
      "image/png": "[encoded data removed]",
      "text/plain": [
       "<Figure size 640x480 with 1 Axes>"
      ]
     },
     "metadata": {},
     "output_type": "display_data"
    }
   ],
   "source": [
    "plt.plot(spy.Close)"
   ]
  },
  {
   "cell_type": "code",
   "execution_count": 10,
   "id": "1cabefd8",
   "metadata": {},
   "outputs": [
    {
     "data": {
      "text/plain": [
       "0             NaN\n",
       "1             NaN\n",
       "2             NaN\n",
       "3             NaN\n",
       "4             NaN\n",
       "          ...    \n",
       "2301    58.311225\n",
       "2302    58.492900\n",
       "2303    58.668050\n",
       "2304    58.846150\n",
       "2305    59.012150\n",
       "Name: Close, Length: 2306, dtype: float64"
      ]
     },
     "execution_count": 10,
     "metadata": {},
     "output_type": "execute_result"
    }
   ],
   "source": [
    "ma100=spy.Close.rolling(100).mean()\n",
    "ma100"
   ]
  },
  {
   "cell_type": "code",
   "execution_count": 11,
   "id": "e60066d6",
   "metadata": {},
   "outputs": [
    {
     "data": {
      "text/plain": [
       "[<matplotlib.lines.Line2D at 0x233ebe9a150>]"
      ]
     },
     "execution_count": 11,
     "metadata": {},
     "output_type": "execute_result"
    },
    {
     "data": {
      "image/png": "[encoded data removed]",
      "text/plain": [
       "<Figure size 1200x600 with 1 Axes>"
      ]
     },
     "metadata": {},
     "output_type": "display_data"
    }
   ],
   "source": [
    "plt.figure(figsize=(12,6))\n",
    "plt.plot(spy.Close)\n",
    "plt.plot(ma100,'r')"
   ]
  },
  {
   "cell_type": "code",
   "execution_count": 12,
   "id": "450f0e43",
   "metadata": {},
   "outputs": [
    {
     "data": {
      "text/plain": [
       "0             NaN\n",
       "1             NaN\n",
       "2             NaN\n",
       "3             NaN\n",
       "4             NaN\n",
       "          ...    \n",
       "2301    53.470750\n",
       "2302    53.601850\n",
       "2303    53.733375\n",
       "2304    53.867775\n",
       "2305    54.000938\n",
       "Name: Close, Length: 2306, dtype: float64"
      ]
     },
     "execution_count": 12,
     "metadata": {},
     "output_type": "execute_result"
    }
   ],
   "source": [
    "ma200=spy.Close.rolling(200).mean()\n",
    "ma200"
   ]
  },
  {
   "cell_type": "code",
   "execution_count": 13,
   "id": "5b0856d1",
   "metadata": {},
   "outputs": [
    {
     "data": {
      "text/plain": [
       "[<matplotlib.lines.Line2D at 0x233ebefb080>]"
      ]
     },
     "execution_count": 13,
     "metadata": {},
     "output_type": "execute_result"
    },
    {
     "data": {
      "image/png": "[encoded data removed]",
      "text/plain": [
       "<Figure size 1200x600 with 1 Axes>"
      ]
     },
     "metadata": {},
     "output_type": "display_data"
    }
   ],
   "source": [
    "plt.figure(figsize=(12,6))\n",
    "plt.plot(spy.Close)\n",
    "plt.plot(ma200,'g')\n",
    "plt.plot(ma100,'r')"
   ]
  },
  {
   "cell_type": "code",
   "execution_count": 14,
   "id": "7f4c676f",
   "metadata": {},
   "outputs": [
    {
     "name": "stdout",
     "output_type": "stream",
     "text": [
      "(1614, 1)\n",
      "(692, 1)\n"
     ]
    }
   ],
   "source": [
    "#splitting data into training and testing\n",
    "\n",
    "data_training=pd.DataFrame(spy['Close'][0:int(len(spy)*0.70)])\n",
    "data_testing=pd.DataFrame(spy['Close'][int(len(spy)*0.70):int(len(spy))])\n",
    "\n",
    "print(data_training.shape)\n",
    "print(data_testing.shape)\n",
    "                                        "
   ]
  },
  {
   "cell_type": "code",
   "execution_count": 15,
   "id": "4cee8de5",
   "metadata": {},
   "outputs": [],
   "source": [
    "from sklearn.preprocessing import MinMaxScaler\n",
    "scaler = MinMaxScaler(feature_range=(0,1))\n"
   ]
  },
  {
   "cell_type": "code",
   "execution_count": 16,
   "id": "bfc2db91",
   "metadata": {},
   "outputs": [
    {
     "data": {
      "text/plain": [
       "array([[0.01209183],\n",
       "       [0.01094647],\n",
       "       [0.01062749],\n",
       "       ...,\n",
       "       [0.98355844],\n",
       "       [0.99959395],\n",
       "       [0.99451943]])"
      ]
     },
     "execution_count": 16,
     "metadata": {},
     "output_type": "execute_result"
    }
   ],
   "source": [
    "data_training_array=scaler.fit_transform(data_training)\n",
    "data_training_array"
   ]
  },
  {
   "cell_type": "code",
   "execution_count": 17,
   "id": "2342b52a",
   "metadata": {},
   "outputs": [],
   "source": [
    "x_train =[]\n",
    "y_train=[]\n",
    "\n",
    "for i in range(100, data_training_array.shape[0]):\n",
    "    x_train.append(data_training_array[i-100:i])\n",
    "    y_train.append(data_training_array[i,0])\n",
    "x_train, y_train=np.array(x_train), np.array(y_train)"
   ]
  },
  {
   "cell_type": "code",
   "execution_count": 21,
   "id": "a9e93c64",
   "metadata": {},
   "outputs": [
    {
     "data": {
      "text/html": [
       "<pre style=\"white-space:pre;overflow-x:auto;line-height:normal;font-family:Menlo,'DejaVu Sans Mono',consolas,'Courier New',monospace\"><span style=\"font-weight: bold\">Model: \"sequential_1\"</span>\n",
       "</pre>\n"
      ],
      "text/plain": [
       "\u001b[1mModel: \"sequential_1\"\u001b[0m\n"
      ]
     },
     "metadata": {},
     "output_type": "display_data"
    },
    {
     "data": {
      "text/html": [
       "<pre style=\"white-space:pre;overflow-x:auto;line-height:normal;font-family:Menlo,'DejaVu Sans Mono',consolas,'Courier New',monospace\">┏━━━━━━━━━━━━━━━━━━━━━━━━━━━━━━━━━┳━━━━━━━━━━━━━━━━━━━━━━━━┳━━━━━━━━━━━━━━━┓\n",
       "┃<span style=\"font-weight: bold\"> Layer (type)                    </span>┃<span style=\"font-weight: bold\"> Output Shape           </span>┃<span style=\"font-weight: bold\">       Param # </span>┃\n",
       "┡━━━━━━━━━━━━━━━━━━━━━━━━━━━━━━━━━╇━━━━━━━━━━━━━━━━━━━━━━━━╇━━━━━━━━━━━━━━━┩\n",
       "│ lstm_1 (<span style=\"color: #0087ff; text-decoration-color: #0087ff\">LSTM</span>)                   │ (<span style=\"color: #00d7ff; text-decoration-color: #00d7ff\">None</span>, <span style=\"color: #00af00; text-decoration-color: #00af00\">64</span>)             │        <span style=\"color: #00af00; text-decoration-color: #00af00\">17,920</span> │\n",
       "├─────────────────────────────────┼────────────────────────┼───────────────┤\n",
       "│ dropout_1 (<span style=\"color: #0087ff; text-decoration-color: #0087ff\">Dropout</span>)             │ (<span style=\"color: #00d7ff; text-decoration-color: #00d7ff\">None</span>, <span style=\"color: #00af00; text-decoration-color: #00af00\">64</span>)             │             <span style=\"color: #00af00; text-decoration-color: #00af00\">0</span> │\n",
       "├─────────────────────────────────┼────────────────────────┼───────────────┤\n",
       "│ dense_1 (<span style=\"color: #0087ff; text-decoration-color: #0087ff\">Dense</span>)                 │ (<span style=\"color: #00d7ff; text-decoration-color: #00d7ff\">None</span>, <span style=\"color: #00af00; text-decoration-color: #00af00\">1</span>)              │            <span style=\"color: #00af00; text-decoration-color: #00af00\">65</span> │\n",
       "└─────────────────────────────────┴────────────────────────┴───────────────┘\n",
       "</pre>\n"
      ],
      "text/plain": [
       "┏━━━━━━━━━━━━━━━━━━━━━━━━━━━━━━━━━┳━━━━━━━━━━━━━━━━━━━━━━━━┳━━━━━━━━━━━━━━━┓\n",
       "┃\u001b[1m \u001b[0m\u001b[1mLayer (type)                   \u001b[0m\u001b[1m \u001b[0m┃\u001b[1m \u001b[0m\u001b[1mOutput Shape          \u001b[0m\u001b[1m \u001b[0m┃\u001b[1m \u001b[0m\u001b[1m      Param #\u001b[0m\u001b[1m \u001b[0m┃\n",
       "┡━━━━━━━━━━━━━━━━━━━━━━━━━━━━━━━━━╇━━━━━━━━━━━━━━━━━━━━━━━━╇━━━━━━━━━━━━━━━┩\n",
       "│ lstm_1 (\u001b[38;5;33mLSTM\u001b[0m)                   │ (\u001b[38;5;45mNone\u001b[0m, \u001b[38;5;34m64\u001b[0m)             │        \u001b[38;5;34m17,920\u001b[0m │\n",
       "├─────────────────────────────────┼────────────────────────┼───────────────┤\n",
       "│ dropout_1 (\u001b[38;5;33mDropout\u001b[0m)             │ (\u001b[38;5;45mNone\u001b[0m, \u001b[38;5;34m64\u001b[0m)             │             \u001b[38;5;34m0\u001b[0m │\n",
       "├─────────────────────────────────┼────────────────────────┼───────────────┤\n",
       "│ dense_1 (\u001b[38;5;33mDense\u001b[0m)                 │ (\u001b[38;5;45mNone\u001b[0m, \u001b[38;5;34m1\u001b[0m)              │            \u001b[38;5;34m65\u001b[0m │\n",
       "└─────────────────────────────────┴────────────────────────┴───────────────┘\n"
      ]
     },
     "metadata": {},
     "output_type": "display_data"
    },
    {
     "data": {
      "text/html": [
       "<pre style=\"white-space:pre;overflow-x:auto;line-height:normal;font-family:Menlo,'DejaVu Sans Mono',consolas,'Courier New',monospace\"><span style=\"font-weight: bold\"> Total params: </span><span style=\"color: #00af00; text-decoration-color: #00af00\">17,985</span> (70.25 KB)\n",
       "</pre>\n"
      ],
      "text/plain": [
       "\u001b[1m Total params: \u001b[0m\u001b[38;5;34m17,985\u001b[0m (70.25 KB)\n"
      ]
     },
     "metadata": {},
     "output_type": "display_data"
    },
    {
     "data": {
      "text/html": [
       "<pre style=\"white-space:pre;overflow-x:auto;line-height:normal;font-family:Menlo,'DejaVu Sans Mono',consolas,'Courier New',monospace\"><span style=\"font-weight: bold\"> Trainable params: </span><span style=\"color: #00af00; text-decoration-color: #00af00\">17,985</span> (70.25 KB)\n",
       "</pre>\n"
      ],
      "text/plain": [
       "\u001b[1m Trainable params: \u001b[0m\u001b[38;5;34m17,985\u001b[0m (70.25 KB)\n"
      ]
     },
     "metadata": {},
     "output_type": "display_data"
    },
    {
     "data": {
      "text/html": [
       "<pre style=\"white-space:pre;overflow-x:auto;line-height:normal;font-family:Menlo,'DejaVu Sans Mono',consolas,'Courier New',monospace\"><span style=\"font-weight: bold\"> Non-trainable params: </span><span style=\"color: #00af00; text-decoration-color: #00af00\">0</span> (0.00 B)\n",
       "</pre>\n"
      ],
      "text/plain": [
       "\u001b[1m Non-trainable params: \u001b[0m\u001b[38;5;34m0\u001b[0m (0.00 B)\n"
      ]
     },
     "metadata": {},
     "output_type": "display_data"
    }
   ],
   "source": [
    "# from keras.layers import Dense, Dropout, LSTM\n",
    "# from keras import models\n",
    "# from keras.engine.input_layer import Input\n",
    "# from keras.engine.sequential import Sequential\n",
    "from keras.layers import Dense, Dropout, LSTM\n",
    "from keras.models import Sequential\n",
    "\n",
    "model = Sequential()\n",
    "model.add(LSTM(units=64, input_shape=(10, 5)))  # Example input shape: 10 time steps with 5 features\n",
    "model.add(Dropout(0.2))\n",
    "model.add(Dense(units=1))\n",
    "\n",
    "model.summary()\n"
   ]
  },
  {
   "cell_type": "code",
   "execution_count": 22,
   "id": "debbf324",
   "metadata": {},
   "outputs": [],
   "source": [
    "model = Sequential()\n",
    "model.add(LSTM(units=50, activation='relu', return_sequences=True,\n",
    "                   input_shape=(x_train.shape[1], 1)))\n",
    "model.add(Dropout(0.2))\n",
    "\n",
    "model.add(LSTM(units=60, activation='relu', return_sequences=True))\n",
    "model.add(Dropout(0.3))\n",
    "\n",
    "model.add(LSTM(units=80, activation='relu', return_sequences=True))\n",
    "model.add(Dropout(0.4))\n",
    "\n",
    "model.add(LSTM(units=120, activation='relu'))\n",
    "model.add(Dropout(0.5))\n",
    "\n",
    "model.add(Dense(units=1))"
   ]
  },
  {
   "cell_type": "code",
   "execution_count": 23,
   "id": "dc3b427e",
   "metadata": {},
   "outputs": [
    {
     "data": {
      "text/html": [
       "<pre style=\"white-space:pre;overflow-x:auto;line-height:normal;font-family:Menlo,'DejaVu Sans Mono',consolas,'Courier New',monospace\"><span style=\"font-weight: bold\">Model: \"sequential_2\"</span>\n",
       "</pre>\n"
      ],
      "text/plain": [
       "\u001b[1mModel: \"sequential_2\"\u001b[0m\n"
      ]
     },
     "metadata": {},
     "output_type": "display_data"
    },
    {
     "data": {
      "text/html": [
       "<pre style=\"white-space:pre;overflow-x:auto;line-height:normal;font-family:Menlo,'DejaVu Sans Mono',consolas,'Courier New',monospace\">┏━━━━━━━━━━━━━━━━━━━━━━━━━━━━━━━━━┳━━━━━━━━━━━━━━━━━━━━━━━━┳━━━━━━━━━━━━━━━┓\n",
       "┃<span style=\"font-weight: bold\"> Layer (type)                    </span>┃<span style=\"font-weight: bold\"> Output Shape           </span>┃<span style=\"font-weight: bold\">       Param # </span>┃\n",
       "┡━━━━━━━━━━━━━━━━━━━━━━━━━━━━━━━━━╇━━━━━━━━━━━━━━━━━━━━━━━━╇━━━━━━━━━━━━━━━┩\n",
       "│ lstm_2 (<span style=\"color: #0087ff; text-decoration-color: #0087ff\">LSTM</span>)                   │ (<span style=\"color: #00d7ff; text-decoration-color: #00d7ff\">None</span>, <span style=\"color: #00af00; text-decoration-color: #00af00\">100</span>, <span style=\"color: #00af00; text-decoration-color: #00af00\">50</span>)        │        <span style=\"color: #00af00; text-decoration-color: #00af00\">10,400</span> │\n",
       "├─────────────────────────────────┼────────────────────────┼───────────────┤\n",
       "│ dropout_2 (<span style=\"color: #0087ff; text-decoration-color: #0087ff\">Dropout</span>)             │ (<span style=\"color: #00d7ff; text-decoration-color: #00d7ff\">None</span>, <span style=\"color: #00af00; text-decoration-color: #00af00\">100</span>, <span style=\"color: #00af00; text-decoration-color: #00af00\">50</span>)        │             <span style=\"color: #00af00; text-decoration-color: #00af00\">0</span> │\n",
       "├─────────────────────────────────┼────────────────────────┼───────────────┤\n",
       "│ lstm_3 (<span style=\"color: #0087ff; text-decoration-color: #0087ff\">LSTM</span>)                   │ (<span style=\"color: #00d7ff; text-decoration-color: #00d7ff\">None</span>, <span style=\"color: #00af00; text-decoration-color: #00af00\">100</span>, <span style=\"color: #00af00; text-decoration-color: #00af00\">60</span>)        │        <span style=\"color: #00af00; text-decoration-color: #00af00\">26,640</span> │\n",
       "├─────────────────────────────────┼────────────────────────┼───────────────┤\n",
       "│ dropout_3 (<span style=\"color: #0087ff; text-decoration-color: #0087ff\">Dropout</span>)             │ (<span style=\"color: #00d7ff; text-decoration-color: #00d7ff\">None</span>, <span style=\"color: #00af00; text-decoration-color: #00af00\">100</span>, <span style=\"color: #00af00; text-decoration-color: #00af00\">60</span>)        │             <span style=\"color: #00af00; text-decoration-color: #00af00\">0</span> │\n",
       "├─────────────────────────────────┼────────────────────────┼───────────────┤\n",
       "│ lstm_4 (<span style=\"color: #0087ff; text-decoration-color: #0087ff\">LSTM</span>)                   │ (<span style=\"color: #00d7ff; text-decoration-color: #00d7ff\">None</span>, <span style=\"color: #00af00; text-decoration-color: #00af00\">100</span>, <span style=\"color: #00af00; text-decoration-color: #00af00\">80</span>)        │        <span style=\"color: #00af00; text-decoration-color: #00af00\">45,120</span> │\n",
       "├─────────────────────────────────┼────────────────────────┼───────────────┤\n",
       "│ dropout_4 (<span style=\"color: #0087ff; text-decoration-color: #0087ff\">Dropout</span>)             │ (<span style=\"color: #00d7ff; text-decoration-color: #00d7ff\">None</span>, <span style=\"color: #00af00; text-decoration-color: #00af00\">100</span>, <span style=\"color: #00af00; text-decoration-color: #00af00\">80</span>)        │             <span style=\"color: #00af00; text-decoration-color: #00af00\">0</span> │\n",
       "├─────────────────────────────────┼────────────────────────┼───────────────┤\n",
       "│ lstm_5 (<span style=\"color: #0087ff; text-decoration-color: #0087ff\">LSTM</span>)                   │ (<span style=\"color: #00d7ff; text-decoration-color: #00d7ff\">None</span>, <span style=\"color: #00af00; text-decoration-color: #00af00\">120</span>)            │        <span style=\"color: #00af00; text-decoration-color: #00af00\">96,480</span> │\n",
       "├─────────────────────────────────┼────────────────────────┼───────────────┤\n",
       "│ dropout_5 (<span style=\"color: #0087ff; text-decoration-color: #0087ff\">Dropout</span>)             │ (<span style=\"color: #00d7ff; text-decoration-color: #00d7ff\">None</span>, <span style=\"color: #00af00; text-decoration-color: #00af00\">120</span>)            │             <span style=\"color: #00af00; text-decoration-color: #00af00\">0</span> │\n",
       "├─────────────────────────────────┼────────────────────────┼───────────────┤\n",
       "│ dense_2 (<span style=\"color: #0087ff; text-decoration-color: #0087ff\">Dense</span>)                 │ (<span style=\"color: #00d7ff; text-decoration-color: #00d7ff\">None</span>, <span style=\"color: #00af00; text-decoration-color: #00af00\">1</span>)              │           <span style=\"color: #00af00; text-decoration-color: #00af00\">121</span> │\n",
       "└─────────────────────────────────┴────────────────────────┴───────────────┘\n",
       "</pre>\n"
      ],
      "text/plain": [
       "┏━━━━━━━━━━━━━━━━━━━━━━━━━━━━━━━━━┳━━━━━━━━━━━━━━━━━━━━━━━━┳━━━━━━━━━━━━━━━┓\n",
       "┃\u001b[1m \u001b[0m\u001b[1mLayer (type)                   \u001b[0m\u001b[1m \u001b[0m┃\u001b[1m \u001b[0m\u001b[1mOutput Shape          \u001b[0m\u001b[1m \u001b[0m┃\u001b[1m \u001b[0m\u001b[1m      Param #\u001b[0m\u001b[1m \u001b[0m┃\n",
       "┡━━━━━━━━━━━━━━━━━━━━━━━━━━━━━━━━━╇━━━━━━━━━━━━━━━━━━━━━━━━╇━━━━━━━━━━━━━━━┩\n",
       "│ lstm_2 (\u001b[38;5;33mLSTM\u001b[0m)                   │ (\u001b[38;5;45mNone\u001b[0m, \u001b[38;5;34m100\u001b[0m, \u001b[38;5;34m50\u001b[0m)        │        \u001b[38;5;34m10,400\u001b[0m │\n",
       "├─────────────────────────────────┼────────────────────────┼───────────────┤\n",
       "│ dropout_2 (\u001b[38;5;33mDropout\u001b[0m)             │ (\u001b[38;5;45mNone\u001b[0m, \u001b[38;5;34m100\u001b[0m, \u001b[38;5;34m50\u001b[0m)        │             \u001b[38;5;34m0\u001b[0m │\n",
       "├─────────────────────────────────┼────────────────────────┼───────────────┤\n",
       "│ lstm_3 (\u001b[38;5;33mLSTM\u001b[0m)                   │ (\u001b[38;5;45mNone\u001b[0m, \u001b[38;5;34m100\u001b[0m, \u001b[38;5;34m60\u001b[0m)        │        \u001b[38;5;34m26,640\u001b[0m │\n",
       "├─────────────────────────────────┼────────────────────────┼───────────────┤\n",
       "│ dropout_3 (\u001b[38;5;33mDropout\u001b[0m)             │ (\u001b[38;5;45mNone\u001b[0m, \u001b[38;5;34m100\u001b[0m, \u001b[38;5;34m60\u001b[0m)        │             \u001b[38;5;34m0\u001b[0m │\n",
       "├─────────────────────────────────┼────────────────────────┼───────────────┤\n",
       "│ lstm_4 (\u001b[38;5;33mLSTM\u001b[0m)                   │ (\u001b[38;5;45mNone\u001b[0m, \u001b[38;5;34m100\u001b[0m, \u001b[38;5;34m80\u001b[0m)        │        \u001b[38;5;34m45,120\u001b[0m │\n",
       "├─────────────────────────────────┼────────────────────────┼───────────────┤\n",
       "│ dropout_4 (\u001b[38;5;33mDropout\u001b[0m)             │ (\u001b[38;5;45mNone\u001b[0m, \u001b[38;5;34m100\u001b[0m, \u001b[38;5;34m80\u001b[0m)        │             \u001b[38;5;34m0\u001b[0m │\n",
       "├─────────────────────────────────┼────────────────────────┼───────────────┤\n",
       "│ lstm_5 (\u001b[38;5;33mLSTM\u001b[0m)                   │ (\u001b[38;5;45mNone\u001b[0m, \u001b[38;5;34m120\u001b[0m)            │        \u001b[38;5;34m96,480\u001b[0m │\n",
       "├─────────────────────────────────┼────────────────────────┼───────────────┤\n",
       "│ dropout_5 (\u001b[38;5;33mDropout\u001b[0m)             │ (\u001b[38;5;45mNone\u001b[0m, \u001b[38;5;34m120\u001b[0m)            │             \u001b[38;5;34m0\u001b[0m │\n",
       "├─────────────────────────────────┼────────────────────────┼───────────────┤\n",
       "│ dense_2 (\u001b[38;5;33mDense\u001b[0m)                 │ (\u001b[38;5;45mNone\u001b[0m, \u001b[38;5;34m1\u001b[0m)              │           \u001b[38;5;34m121\u001b[0m │\n",
       "└─────────────────────────────────┴────────────────────────┴───────────────┘\n"
      ]
     },
     "metadata": {},
     "output_type": "display_data"
    },
    {
     "data": {
      "text/html": [
       "<pre style=\"white-space:pre;overflow-x:auto;line-height:normal;font-family:Menlo,'DejaVu Sans Mono',consolas,'Courier New',monospace\"><span style=\"font-weight: bold\"> Total params: </span><span style=\"color: #00af00; text-decoration-color: #00af00\">178,761</span> (698.29 KB)\n",
       "</pre>\n"
      ],
      "text/plain": [
       "\u001b[1m Total params: \u001b[0m\u001b[38;5;34m178,761\u001b[0m (698.29 KB)\n"
      ]
     },
     "metadata": {},
     "output_type": "display_data"
    },
    {
     "data": {
      "text/html": [
       "<pre style=\"white-space:pre;overflow-x:auto;line-height:normal;font-family:Menlo,'DejaVu Sans Mono',consolas,'Courier New',monospace\"><span style=\"font-weight: bold\"> Trainable params: </span><span style=\"color: #00af00; text-decoration-color: #00af00\">178,761</span> (698.29 KB)\n",
       "</pre>\n"
      ],
      "text/plain": [
       "\u001b[1m Trainable params: \u001b[0m\u001b[38;5;34m178,761\u001b[0m (698.29 KB)\n"
      ]
     },
     "metadata": {},
     "output_type": "display_data"
    },
    {
     "data": {
      "text/html": [
       "<pre style=\"white-space:pre;overflow-x:auto;line-height:normal;font-family:Menlo,'DejaVu Sans Mono',consolas,'Courier New',monospace\"><span style=\"font-weight: bold\"> Non-trainable params: </span><span style=\"color: #00af00; text-decoration-color: #00af00\">0</span> (0.00 B)\n",
       "</pre>\n"
      ],
      "text/plain": [
       "\u001b[1m Non-trainable params: \u001b[0m\u001b[38;5;34m0\u001b[0m (0.00 B)\n"
      ]
     },
     "metadata": {},
     "output_type": "display_data"
    }
   ],
   "source": [
    "model.summary()"
   ]
  },
  {
   "cell_type": "code",
   "execution_count": 24,
   "id": "ce6dbab9",
   "metadata": {},
   "outputs": [
    {
     "name": "stdout",
     "output_type": "stream",
     "text": [
      "Epoch 1/50\n",
      "\u001b[1m48/48\u001b[0m \u001b[32m━━━━━━━━━━━━━━━━━━━━\u001b[0m\u001b[37m\u001b[0m \u001b[1m17s\u001b[0m 191ms/step - loss: 0.1176\n",
      "Epoch 2/50\n",
      "\u001b[1m48/48\u001b[0m \u001b[32m━━━━━━━━━━━━━━━━━━━━\u001b[0m\u001b[37m\u001b[0m \u001b[1m9s\u001b[0m 189ms/step - loss: 0.0116\n",
      "Epoch 3/50\n",
      "\u001b[1m48/48\u001b[0m \u001b[32m━━━━━━━━━━━━━━━━━━━━\u001b[0m\u001b[37m\u001b[0m \u001b[1m11s\u001b[0m 233ms/step - loss: 0.0102\n",
      "Epoch 4/50\n",
      "\u001b[1m48/48\u001b[0m \u001b[32m━━━━━━━━━━━━━━━━━━━━\u001b[0m\u001b[37m\u001b[0m \u001b[1m11s\u001b[0m 236ms/step - loss: 0.0098\n",
      "Epoch 5/50\n",
      "\u001b[1m48/48\u001b[0m \u001b[32m━━━━━━━━━━━━━━━━━━━━\u001b[0m\u001b[37m\u001b[0m \u001b[1m11s\u001b[0m 236ms/step - loss: 0.0095\n",
      "Epoch 6/50\n",
      "\u001b[1m48/48\u001b[0m \u001b[32m━━━━━━━━━━━━━━━━━━━━\u001b[0m\u001b[37m\u001b[0m \u001b[1m12s\u001b[0m 242ms/step - loss: 0.0082\n",
      "Epoch 7/50\n",
      "\u001b[1m48/48\u001b[0m \u001b[32m━━━━━━━━━━━━━━━━━━━━\u001b[0m\u001b[37m\u001b[0m \u001b[1m11s\u001b[0m 237ms/step - loss: 0.0074\n",
      "Epoch 8/50\n",
      "\u001b[1m48/48\u001b[0m \u001b[32m━━━━━━━━━━━━━━━━━━━━\u001b[0m\u001b[37m\u001b[0m \u001b[1m14s\u001b[0m 284ms/step - loss: 0.0058\n",
      "Epoch 9/50\n",
      "\u001b[1m48/48\u001b[0m \u001b[32m━━━━━━━━━━━━━━━━━━━━\u001b[0m\u001b[37m\u001b[0m \u001b[1m17s\u001b[0m 359ms/step - loss: 0.0078\n",
      "Epoch 10/50\n",
      "\u001b[1m48/48\u001b[0m \u001b[32m━━━━━━━━━━━━━━━━━━━━\u001b[0m\u001b[37m\u001b[0m \u001b[1m13s\u001b[0m 263ms/step - loss: 0.0071\n",
      "Epoch 11/50\n",
      "\u001b[1m48/48\u001b[0m \u001b[32m━━━━━━━━━━━━━━━━━━━━\u001b[0m\u001b[37m\u001b[0m \u001b[1m17s\u001b[0m 354ms/step - loss: 0.0068\n",
      "Epoch 12/50\n",
      "\u001b[1m48/48\u001b[0m \u001b[32m━━━━━━━━━━━━━━━━━━━━\u001b[0m\u001b[37m\u001b[0m \u001b[1m18s\u001b[0m 378ms/step - loss: 0.0064\n",
      "Epoch 13/50\n",
      "\u001b[1m48/48\u001b[0m \u001b[32m━━━━━━━━━━━━━━━━━━━━\u001b[0m\u001b[37m\u001b[0m \u001b[1m12s\u001b[0m 252ms/step - loss: 0.0060\n",
      "Epoch 14/50\n",
      "\u001b[1m48/48\u001b[0m \u001b[32m━━━━━━━━━━━━━━━━━━━━\u001b[0m\u001b[37m\u001b[0m \u001b[1m17s\u001b[0m 363ms/step - loss: 0.0056\n",
      "Epoch 15/50\n",
      "\u001b[1m48/48\u001b[0m \u001b[32m━━━━━━━━━━━━━━━━━━━━\u001b[0m\u001b[37m\u001b[0m \u001b[1m18s\u001b[0m 374ms/step - loss: 0.0063\n",
      "Epoch 16/50\n",
      "\u001b[1m48/48\u001b[0m \u001b[32m━━━━━━━━━━━━━━━━━━━━\u001b[0m\u001b[37m\u001b[0m \u001b[1m18s\u001b[0m 365ms/step - loss: 0.0060\n",
      "Epoch 17/50\n",
      "\u001b[1m48/48\u001b[0m \u001b[32m━━━━━━━━━━━━━━━━━━━━\u001b[0m\u001b[37m\u001b[0m \u001b[1m9s\u001b[0m 177ms/step - loss: 0.0064\n",
      "Epoch 18/50\n",
      "\u001b[1m48/48\u001b[0m \u001b[32m━━━━━━━━━━━━━━━━━━━━\u001b[0m\u001b[37m\u001b[0m \u001b[1m9s\u001b[0m 180ms/step - loss: 0.0061\n",
      "Epoch 19/50\n",
      "\u001b[1m48/48\u001b[0m \u001b[32m━━━━━━━━━━━━━━━━━━━━\u001b[0m\u001b[37m\u001b[0m \u001b[1m9s\u001b[0m 196ms/step - loss: 0.0059\n",
      "Epoch 20/50\n",
      "\u001b[1m48/48\u001b[0m \u001b[32m━━━━━━━━━━━━━━━━━━━━\u001b[0m\u001b[37m\u001b[0m \u001b[1m10s\u001b[0m 205ms/step - loss: 0.0058\n",
      "Epoch 21/50\n",
      "\u001b[1m48/48\u001b[0m \u001b[32m━━━━━━━━━━━━━━━━━━━━\u001b[0m\u001b[37m\u001b[0m \u001b[1m16s\u001b[0m 335ms/step - loss: 0.0054\n",
      "Epoch 22/50\n",
      "\u001b[1m48/48\u001b[0m \u001b[32m━━━━━━━━━━━━━━━━━━━━\u001b[0m\u001b[37m\u001b[0m \u001b[1m18s\u001b[0m 364ms/step - loss: 0.0056\n",
      "Epoch 23/50\n",
      "\u001b[1m48/48\u001b[0m \u001b[32m━━━━━━━━━━━━━━━━━━━━\u001b[0m\u001b[37m\u001b[0m \u001b[1m10s\u001b[0m 197ms/step - loss: 0.0053\n",
      "Epoch 24/50\n",
      "\u001b[1m48/48\u001b[0m \u001b[32m━━━━━━━━━━━━━━━━━━━━\u001b[0m\u001b[37m\u001b[0m \u001b[1m8s\u001b[0m 171ms/step - loss: 0.0065\n",
      "Epoch 25/50\n",
      "\u001b[1m48/48\u001b[0m \u001b[32m━━━━━━━━━━━━━━━━━━━━\u001b[0m\u001b[37m\u001b[0m \u001b[1m9s\u001b[0m 183ms/step - loss: 0.0046\n",
      "Epoch 26/50\n",
      "\u001b[1m48/48\u001b[0m \u001b[32m━━━━━━━━━━━━━━━━━━━━\u001b[0m\u001b[37m\u001b[0m \u001b[1m10s\u001b[0m 209ms/step - loss: 0.0047\n",
      "Epoch 27/50\n",
      "\u001b[1m48/48\u001b[0m \u001b[32m━━━━━━━━━━━━━━━━━━━━\u001b[0m\u001b[37m\u001b[0m \u001b[1m9s\u001b[0m 193ms/step - loss: 0.0051\n",
      "Epoch 28/50\n",
      "\u001b[1m48/48\u001b[0m \u001b[32m━━━━━━━━━━━━━━━━━━━━\u001b[0m\u001b[37m\u001b[0m \u001b[1m10s\u001b[0m 205ms/step - loss: 0.0054\n",
      "Epoch 29/50\n",
      "\u001b[1m48/48\u001b[0m \u001b[32m━━━━━━━━━━━━━━━━━━━━\u001b[0m\u001b[37m\u001b[0m \u001b[1m10s\u001b[0m 204ms/step - loss: 0.0044\n",
      "Epoch 30/50\n",
      "\u001b[1m48/48\u001b[0m \u001b[32m━━━━━━━━━━━━━━━━━━━━\u001b[0m\u001b[37m\u001b[0m \u001b[1m10s\u001b[0m 216ms/step - loss: 0.0039\n",
      "Epoch 31/50\n",
      "\u001b[1m48/48\u001b[0m \u001b[32m━━━━━━━━━━━━━━━━━━━━\u001b[0m\u001b[37m\u001b[0m \u001b[1m10s\u001b[0m 206ms/step - loss: 0.0046\n",
      "Epoch 32/50\n",
      "\u001b[1m48/48\u001b[0m \u001b[32m━━━━━━━━━━━━━━━━━━━━\u001b[0m\u001b[37m\u001b[0m \u001b[1m10s\u001b[0m 217ms/step - loss: 0.0039\n",
      "Epoch 33/50\n",
      "\u001b[1m48/48\u001b[0m \u001b[32m━━━━━━━━━━━━━━━━━━━━\u001b[0m\u001b[37m\u001b[0m \u001b[1m11s\u001b[0m 221ms/step - loss: 0.0045\n",
      "Epoch 34/50\n",
      "\u001b[1m48/48\u001b[0m \u001b[32m━━━━━━━━━━━━━━━━━━━━\u001b[0m\u001b[37m\u001b[0m \u001b[1m11s\u001b[0m 224ms/step - loss: 0.0049\n",
      "Epoch 35/50\n",
      "\u001b[1m48/48\u001b[0m \u001b[32m━━━━━━━━━━━━━━━━━━━━\u001b[0m\u001b[37m\u001b[0m \u001b[1m11s\u001b[0m 233ms/step - loss: 0.0040\n",
      "Epoch 36/50\n",
      "\u001b[1m48/48\u001b[0m \u001b[32m━━━━━━━━━━━━━━━━━━━━\u001b[0m\u001b[37m\u001b[0m \u001b[1m11s\u001b[0m 236ms/step - loss: 0.0038\n",
      "Epoch 37/50\n",
      "\u001b[1m48/48\u001b[0m \u001b[32m━━━━━━━━━━━━━━━━━━━━\u001b[0m\u001b[37m\u001b[0m \u001b[1m12s\u001b[0m 244ms/step - loss: 0.0037\n",
      "Epoch 38/50\n",
      "\u001b[1m48/48\u001b[0m \u001b[32m━━━━━━━━━━━━━━━━━━━━\u001b[0m\u001b[37m\u001b[0m \u001b[1m12s\u001b[0m 256ms/step - loss: 0.0041\n",
      "Epoch 39/50\n",
      "\u001b[1m48/48\u001b[0m \u001b[32m━━━━━━━━━━━━━━━━━━━━\u001b[0m\u001b[37m\u001b[0m \u001b[1m12s\u001b[0m 249ms/step - loss: 0.0033\n",
      "Epoch 40/50\n",
      "\u001b[1m48/48\u001b[0m \u001b[32m━━━━━━━━━━━━━━━━━━━━\u001b[0m\u001b[37m\u001b[0m \u001b[1m12s\u001b[0m 246ms/step - loss: 0.0039\n",
      "Epoch 41/50\n",
      "\u001b[1m48/48\u001b[0m \u001b[32m━━━━━━━━━━━━━━━━━━━━\u001b[0m\u001b[37m\u001b[0m \u001b[1m12s\u001b[0m 250ms/step - loss: 0.0044\n",
      "Epoch 42/50\n",
      "\u001b[1m48/48\u001b[0m \u001b[32m━━━━━━━━━━━━━━━━━━━━\u001b[0m\u001b[37m\u001b[0m \u001b[1m11s\u001b[0m 236ms/step - loss: 0.0039\n",
      "Epoch 43/50\n",
      "\u001b[1m48/48\u001b[0m \u001b[32m━━━━━━━━━━━━━━━━━━━━\u001b[0m\u001b[37m\u001b[0m \u001b[1m11s\u001b[0m 235ms/step - loss: 0.0038\n",
      "Epoch 44/50\n",
      "\u001b[1m48/48\u001b[0m \u001b[32m━━━━━━━━━━━━━━━━━━━━\u001b[0m\u001b[37m\u001b[0m \u001b[1m11s\u001b[0m 232ms/step - loss: 0.0039\n",
      "Epoch 45/50\n",
      "\u001b[1m48/48\u001b[0m \u001b[32m━━━━━━━━━━━━━━━━━━━━\u001b[0m\u001b[37m\u001b[0m \u001b[1m11s\u001b[0m 234ms/step - loss: 0.0034\n",
      "Epoch 46/50\n",
      "\u001b[1m48/48\u001b[0m \u001b[32m━━━━━━━━━━━━━━━━━━━━\u001b[0m\u001b[37m\u001b[0m \u001b[1m12s\u001b[0m 251ms/step - loss: 0.0036\n",
      "Epoch 47/50\n",
      "\u001b[1m48/48\u001b[0m \u001b[32m━━━━━━━━━━━━━━━━━━━━\u001b[0m\u001b[37m\u001b[0m \u001b[1m11s\u001b[0m 230ms/step - loss: 0.0034\n",
      "Epoch 48/50\n",
      "\u001b[1m48/48\u001b[0m \u001b[32m━━━━━━━━━━━━━━━━━━━━\u001b[0m\u001b[37m\u001b[0m \u001b[1m12s\u001b[0m 241ms/step - loss: 0.0039\n",
      "Epoch 49/50\n",
      "\u001b[1m48/48\u001b[0m \u001b[32m━━━━━━━━━━━━━━━━━━━━\u001b[0m\u001b[37m\u001b[0m \u001b[1m12s\u001b[0m 240ms/step - loss: 0.0047\n",
      "Epoch 50/50\n",
      "\u001b[1m48/48\u001b[0m \u001b[32m━━━━━━━━━━━━━━━━━━━━\u001b[0m\u001b[37m\u001b[0m \u001b[1m12s\u001b[0m 249ms/step - loss: 0.0036\n"
     ]
    },
    {
     "data": {
      "text/plain": [
       "<keras.src.callbacks.history.History at 0x23386a81d00>"
      ]
     },
     "execution_count": 24,
     "metadata": {},
     "output_type": "execute_result"
    }
   ],
   "source": [
    "model.compile(optimizer='adam', loss='mean_squared_error')\n",
    "model.fit(x_train, y_train, epochs=50)"
   ]
  },
  {
   "cell_type": "code",
   "execution_count": 25,
   "id": "eceecf9d",
   "metadata": {},
   "outputs": [
    {
     "name": "stderr",
     "output_type": "stream",
     "text": [
      "WARNING:absl:You are saving your model as an HDF5 file via `model.save()` or `keras.saving.save_model(model)`. This file format is considered legacy. We recommend using instead the native Keras format, e.g. `model.save('my_model.keras')` or `keras.saving.save_model(model, 'my_model.keras')`. \n"
     ]
    }
   ],
   "source": [
    "model.save('keras_model.h5')"
   ]
  },
  {
   "cell_type": "code",
   "execution_count": 28,
   "id": "e72d0030",
   "metadata": {},
   "outputs": [],
   "source": [
    "past_100_days = data_training.tail(100)"
   ]
  },
  {
   "cell_type": "code",
   "execution_count": 30,
   "id": "06a26c62",
   "metadata": {},
   "outputs": [],
   "source": [
    "# final_spy = past_100_days.append(data_testing, ignore_index=True)\n",
    "final_spy = pd.concat([past_100_days, data_testing], ignore_index=True)"
   ]
  },
  {
   "cell_type": "code",
   "execution_count": 31,
   "id": "be3acc37",
   "metadata": {},
   "outputs": [
    {
     "data": {
      "text/html": [
       "<div>\n",
       "<style scoped>\n",
       "    .dataframe tbody tr th:only-of-type {\n",
       "        vertical-align: middle;\n",
       "    }\n",
       "\n",
       "    .dataframe tbody tr th {\n",
       "        vertical-align: top;\n",
       "    }\n",
       "\n",
       "    .dataframe thead th {\n",
       "        text-align: right;\n",
       "    }\n",
       "</style>\n",
       "<table border=\"1\" class=\"dataframe\">\n",
       "  <thead>\n",
       "    <tr style=\"text-align: right;\">\n",
       "      <th></th>\n",
       "      <th>Close</th>\n",
       "    </tr>\n",
       "  </thead>\n",
       "  <tbody>\n",
       "    <tr>\n",
       "      <th>0</th>\n",
       "      <td>28.430000</td>\n",
       "    </tr>\n",
       "    <tr>\n",
       "      <th>1</th>\n",
       "      <td>28.385000</td>\n",
       "    </tr>\n",
       "    <tr>\n",
       "      <th>2</th>\n",
       "      <td>27.872499</td>\n",
       "    </tr>\n",
       "    <tr>\n",
       "      <th>3</th>\n",
       "      <td>27.897499</td>\n",
       "    </tr>\n",
       "    <tr>\n",
       "      <th>4</th>\n",
       "      <td>27.457500</td>\n",
       "    </tr>\n",
       "  </tbody>\n",
       "</table>\n",
       "</div>"
      ],
      "text/plain": [
       "       Close\n",
       "0  28.430000\n",
       "1  28.385000\n",
       "2  27.872499\n",
       "3  27.897499\n",
       "4  27.457500"
      ]
     },
     "execution_count": 31,
     "metadata": {},
     "output_type": "execute_result"
    }
   ],
   "source": [
    "# testing we will get\n",
    "final_spy.head()"
   ]
  },
  {
   "cell_type": "code",
   "execution_count": 32,
   "id": "b8291011",
   "metadata": {},
   "outputs": [
    {
     "data": {
      "text/plain": [
       "array([[0.04585004],\n",
       "       [0.0448197 ],\n",
       "       [0.03308528],\n",
       "       [0.03365768],\n",
       "       [0.0235833 ],\n",
       "       [0.01791641],\n",
       "       [0.02690329],\n",
       "       [0.03062392],\n",
       "       [0.02959358],\n",
       "       [0.01190613],\n",
       "       [0.01556955],\n",
       "       [0.        ],\n",
       "       [0.00801375],\n",
       "       [0.02449913],\n",
       "       [0.02427016],\n",
       "       [0.02489982],\n",
       "       [0.0344591 ],\n",
       "       [0.03485978],\n",
       "       [0.03159705],\n",
       "       [0.03480253],\n",
       "       [0.03354322],\n",
       "       [0.03291357],\n",
       "       [0.0275329 ],\n",
       "       [0.02163708],\n",
       "       [0.02398399],\n",
       "       [0.01946194],\n",
       "       [0.02427016],\n",
       "       [0.0304522 ],\n",
       "       [0.03669149],\n",
       "       [0.04716656],\n",
       "       [0.04344593],\n",
       "       [0.05426447],\n",
       "       [0.05426447],\n",
       "       [0.05787064],\n",
       "       [0.05872926],\n",
       "       [0.0625644 ],\n",
       "       [0.06433885],\n",
       "       [0.06496851],\n",
       "       [0.06056097],\n",
       "       [0.06187749],\n",
       "       [0.06611335],\n",
       "       [0.0632513 ],\n",
       "       [0.06307959],\n",
       "       [0.05787064],\n",
       "       [0.0597596 ],\n",
       "       [0.05901544],\n",
       "       [0.06239268],\n",
       "       [0.06983403],\n",
       "       [0.07601602],\n",
       "       [0.07670293],\n",
       "       [0.08036635],\n",
       "       [0.0775043 ],\n",
       "       [0.07630224],\n",
       "       [0.08179737],\n",
       "       [0.08174012],\n",
       "       [0.08053806],\n",
       "       [0.08179737],\n",
       "       [0.08225531],\n",
       "       [0.08162565],\n",
       "       [0.09255866],\n",
       "       [0.09290213],\n",
       "       [0.09295934],\n",
       "       [0.09112763],\n",
       "       [0.08952489],\n",
       "       [0.13188323],\n",
       "       [0.13062392],\n",
       "       [0.13377219],\n",
       "       [0.1406983 ],\n",
       "       [0.14779622],\n",
       "       [0.15071548],\n",
       "       [0.15289066],\n",
       "       [0.15117341],\n",
       "       [0.1578706 ],\n",
       "       [0.16777335],\n",
       "       [0.1705781 ],\n",
       "       [0.16966231],\n",
       "       [0.1717802 ],\n",
       "       [0.17738979],\n",
       "       [0.1797367 ],\n",
       "       [0.17641671],\n",
       "       [0.17716087],\n",
       "       [0.17870631],\n",
       "       [0.17904983],\n",
       "       [0.19507724],\n",
       "       [0.19032631],\n",
       "       [0.19502003],\n",
       "       [0.19250141],\n",
       "       [0.19353179],\n",
       "       [0.19055524],\n",
       "       [0.18872348],\n",
       "       [0.19135661],\n",
       "       [0.19170004],\n",
       "       [0.19049803],\n",
       "       [0.19891246],\n",
       "       [0.20022898],\n",
       "       [0.19622213],\n",
       "       [0.20463656],\n",
       "       [0.19536346],\n",
       "       [0.20440755],\n",
       "       [0.2015455 ],\n",
       "       [0.19994276],\n",
       "       [0.20131657],\n",
       "       [0.21803093],\n",
       "       [0.21986259],\n",
       "       [0.218775  ],\n",
       "       [0.21722956],\n",
       "       [0.21745848],\n",
       "       [0.22358331],\n",
       "       [0.21929024],\n",
       "       [0.21722956],\n",
       "       [0.2153978 ],\n",
       "       [0.21442472],\n",
       "       [0.20560964],\n",
       "       [0.20658273],\n",
       "       [0.20228966],\n",
       "       [0.20675445],\n",
       "       [0.20314824],\n",
       "       [0.20017168],\n",
       "       [0.21024615],\n",
       "       [0.20927306],\n",
       "       [0.21711505],\n",
       "       [0.22220949],\n",
       "       [0.21734398],\n",
       "       [0.21797363],\n",
       "       [0.21717226],\n",
       "       [0.23394391],\n",
       "       [0.23926728],\n",
       "       [0.23669146],\n",
       "       [0.23365769],\n",
       "       [0.2475673 ],\n",
       "       [0.27074982],\n",
       "       [0.2763595 ],\n",
       "       [0.27218085],\n",
       "       [0.27613049],\n",
       "       [0.28843735],\n",
       "       [0.28614766],\n",
       "       [0.28483114],\n",
       "       [0.25495134],\n",
       "       [0.26805949],\n",
       "       [0.27103605],\n",
       "       [0.2763595 ],\n",
       "       [0.27527191],\n",
       "       [0.27263879],\n",
       "       [0.27567255],\n",
       "       [0.27418432],\n",
       "       [0.27452775],\n",
       "       [0.2693188 ],\n",
       "       [0.27172291],\n",
       "       [0.28471664],\n",
       "       [0.27601598],\n",
       "       [0.27899254],\n",
       "       [0.2842587 ],\n",
       "       [0.2820836 ],\n",
       "       [0.24768171],\n",
       "       [0.22730394],\n",
       "       [0.23400112],\n",
       "       [0.2258157 ],\n",
       "       [0.22083568],\n",
       "       [0.20927306],\n",
       "       [0.2325701 ],\n",
       "       [0.22495704],\n",
       "       [0.22987977],\n",
       "       [0.22850604],\n",
       "       [0.23222667],\n",
       "       [0.22959363],\n",
       "       [0.2176302 ],\n",
       "       [0.22965084],\n",
       "       [0.21734398],\n",
       "       [0.21929024],\n",
       "       [0.21631368],\n",
       "       [0.21969088],\n",
       "       [0.2119061 ],\n",
       "       [0.22020603],\n",
       "       [0.22524326],\n",
       "       [0.22793359],\n",
       "       [0.22913569],\n",
       "       [0.2407556 ],\n",
       "       [0.24802515],\n",
       "       [0.2510017 ],\n",
       "       [0.25397826],\n",
       "       [0.25935892],\n",
       "       [0.25546649],\n",
       "       [0.25506585],\n",
       "       [0.26548366],\n",
       "       [0.26920438],\n",
       "       [0.27332574],\n",
       "       [0.2567258 ],\n",
       "       [0.25065827],\n",
       "       [0.24625069],\n",
       "       [0.25380654],\n",
       "       [0.29439038],\n",
       "       [0.28540359],\n",
       "       [0.2900973 ],\n",
       "       [0.30394961],\n",
       "       [0.31121924],\n",
       "       [0.31682883],\n",
       "       [0.28397256],\n",
       "       [0.29633655],\n",
       "       [0.30990272],\n",
       "       [0.31991989],\n",
       "       [0.31619918],\n",
       "       [0.29851174],\n",
       "       [0.29645106],\n",
       "       [0.29479111],\n",
       "       [0.30950199],\n",
       "       [0.3106468 ],\n",
       "       [0.30658273],\n",
       "       [0.30995993],\n",
       "       [0.31917573],\n",
       "       [0.32741845],\n",
       "       [0.32993707],\n",
       "       [0.3336577 ],\n",
       "       [0.33394392],\n",
       "       [0.32266744],\n",
       "       [0.32169435],\n",
       "       [0.31797363],\n",
       "       [0.30291932],\n",
       "       [0.31934745],\n",
       "       [0.31568403],\n",
       "       [0.30875783],\n",
       "       [0.30091585],\n",
       "       [0.31007444],\n",
       "       [0.30314824],\n",
       "       [0.30349167],\n",
       "       [0.28826564],\n",
       "       [0.27292501],\n",
       "       [0.26433886],\n",
       "       [0.25666859],\n",
       "       [0.27149398],\n",
       "       [0.27773323],\n",
       "       [0.27229535],\n",
       "       [0.27710358],\n",
       "       [0.27532912],\n",
       "       [0.27916426],\n",
       "       [0.27344016],\n",
       "       [0.28437321],\n",
       "       [0.28385806],\n",
       "       [0.28694903],\n",
       "       [0.28729246],\n",
       "       [0.29101318],\n",
       "       [0.28786491],\n",
       "       [0.2935318 ],\n",
       "       [0.31007444],\n",
       "       [0.31345164],\n",
       "       [0.30938749],\n",
       "       [0.2877504 ],\n",
       "       [0.28929593],\n",
       "       [0.288838  ],\n",
       "       [0.29416145],\n",
       "       [0.29021181],\n",
       "       [0.29593591],\n",
       "       [0.32821982],\n",
       "       [0.34922725],\n",
       "       [0.36250711],\n",
       "       [0.35020034],\n",
       "       [0.35718374],\n",
       "       [0.38231253],\n",
       "       [0.3923297 ],\n",
       "       [0.39553518],\n",
       "       [0.40372069],\n",
       "       [0.40166001],\n",
       "       [0.39473381],\n",
       "       [0.39072696],\n",
       "       [0.37567256],\n",
       "       [0.36273613],\n",
       "       [0.37429883],\n",
       "       [0.36886087],\n",
       "       [0.36788778],\n",
       "       [0.38597595],\n",
       "       [0.39639385],\n",
       "       [0.39645106],\n",
       "       [0.39141383],\n",
       "       [0.38557531],\n",
       "       [0.36502573],\n",
       "       [0.3785919 ],\n",
       "       [0.37401261],\n",
       "       [0.36685748],\n",
       "       [0.36594161],\n",
       "       [0.3623354 ],\n",
       "       [0.36410994],\n",
       "       [0.36439608],\n",
       "       [0.38328562],\n",
       "       [0.37773323],\n",
       "       [0.38099601],\n",
       "       [0.38070979],\n",
       "       [0.39072696],\n",
       "       [0.40475099],\n",
       "       [0.39398965],\n",
       "       [0.39290215],\n",
       "       [0.39667999],\n",
       "       [0.39667999],\n",
       "       [0.37126506],\n",
       "       [0.37143678],\n",
       "       [0.37418432],\n",
       "       [0.36359471],\n",
       "       [0.38093872],\n",
       "       [0.380767  ],\n",
       "       [0.3853463 ],\n",
       "       [0.39662278],\n",
       "       [0.39290215],\n",
       "       [0.39278764],\n",
       "       [0.39255863],\n",
       "       [0.39822552],\n",
       "       [0.40858612],\n",
       "       [0.40343447],\n",
       "       [0.42009161],\n",
       "       [0.4210074 ],\n",
       "       [0.4164282 ],\n",
       "       [0.40807097],\n",
       "       [0.4082999 ],\n",
       "       [0.39215799],\n",
       "       [0.37435604],\n",
       "       [0.37664564],\n",
       "       [0.35632516],\n",
       "       [0.35065827],\n",
       "       [0.35329131],\n",
       "       [0.35529478],\n",
       "       [0.31362335],\n",
       "       [0.29066975],\n",
       "       [0.32810531],\n",
       "       [0.30812818],\n",
       "       [0.28299939],\n",
       "       [0.29021181],\n",
       "       [0.32627365],\n",
       "       [0.33560387],\n",
       "       [0.35294788],\n",
       "       [0.38511737],\n",
       "       [0.3819118 ],\n",
       "       [0.3785919 ],\n",
       "       [0.37412711],\n",
       "       [0.38231253],\n",
       "       [0.39948483],\n",
       "       [0.41934745],\n",
       "       [0.41602747],\n",
       "       [0.41448194],\n",
       "       [0.39662278],\n",
       "       [0.40354897],\n",
       "       [0.40704068],\n",
       "       [0.40618201],\n",
       "       [0.39679449],\n",
       "       [0.40772754],\n",
       "       [0.42512876],\n",
       "       [0.43508872],\n",
       "       [0.42507155],\n",
       "       [0.41631369],\n",
       "       [0.4175157 ],\n",
       "       [0.41390958],\n",
       "       [0.39834002],\n",
       "       [0.39799659],\n",
       "       [0.37527191],\n",
       "       [0.36141961],\n",
       "       [0.33903836],\n",
       "       [0.38385806],\n",
       "       [0.35850026],\n",
       "       [0.34785343],\n",
       "       [0.35529478],\n",
       "       [0.34899824],\n",
       "       [0.35878648],\n",
       "       [0.37721809],\n",
       "       [0.38402978],\n",
       "       [0.35872927],\n",
       "       [0.36828851],\n",
       "       [0.3866056 ],\n",
       "       [0.3819691 ],\n",
       "       [0.39170005],\n",
       "       [0.39507725],\n",
       "       [0.40131658],\n",
       "       [0.41516889],\n",
       "       [0.41287919],\n",
       "       [0.38402978],\n",
       "       [0.34350315],\n",
       "       [0.34075561],\n",
       "       [0.32759017],\n",
       "       [0.33165423],\n",
       "       [0.334917  ],\n",
       "       [0.32404125],\n",
       "       [0.34087003],\n",
       "       [0.36285063],\n",
       "       [0.40560965],\n",
       "       [0.40744132],\n",
       "       [0.44716658],\n",
       "       [0.45477964],\n",
       "       [0.45987408],\n",
       "       [0.46737264],\n",
       "       [0.48271318],\n",
       "       [0.47441325],\n",
       "       [0.47189463],\n",
       "       [0.46210648],\n",
       "       [0.47206635],\n",
       "       [0.46525475],\n",
       "       [0.46136231],\n",
       "       [0.46891817],\n",
       "       [0.46622783],\n",
       "       [0.47309673],\n",
       "       [0.47189463],\n",
       "       [0.47435604],\n",
       "       [0.47046361],\n",
       "       [0.46817401],\n",
       "       [0.4645678 ],\n",
       "       [0.48385807],\n",
       "       [0.49295936],\n",
       "       [0.501431  ],\n",
       "       [0.50526614],\n",
       "       [0.50228967],\n",
       "       [0.4922152 ],\n",
       "       [0.48952487],\n",
       "       [0.49553519],\n",
       "       [0.4864911 ],\n",
       "       [0.48706355],\n",
       "       [0.47584428],\n",
       "       [0.47527192],\n",
       "       [0.4578134 ],\n",
       "       [0.46244991],\n",
       "       [0.45649688],\n",
       "       [0.45340582],\n",
       "       [0.43766455],\n",
       "       [0.45060098],\n",
       "       [0.44905554],\n",
       "       [0.45672581],\n",
       "       [0.45449341],\n",
       "       [0.46634225],\n",
       "       [0.44768172],\n",
       "       [0.45615336],\n",
       "       [0.47086434],\n",
       "       [0.48580424],\n",
       "       [0.48448772],\n",
       "       [0.47034919],\n",
       "       [0.48838007],\n",
       "       [0.49009731],\n",
       "       [0.4876932 ],\n",
       "       [0.49078418],\n",
       "       [0.48477386],\n",
       "       [0.49324558],\n",
       "       [0.49072697],\n",
       "       [0.49170005],\n",
       "       [0.49965655],\n",
       "       [0.51007445],\n",
       "       [0.50658274],\n",
       "       [0.48809384],\n",
       "       [0.4819691 ],\n",
       "       [0.4841442 ],\n",
       "       [0.54831138],\n",
       "       [0.58202632],\n",
       "       [0.58546081],\n",
       "       [0.59164285],\n",
       "       [0.58042358],\n",
       "       [0.58122495],\n",
       "       [0.59055526],\n",
       "       [0.58282769],\n",
       "       [0.59049796],\n",
       "       [0.59553519],\n",
       "       [0.59834003],\n",
       "       [0.61597027],\n",
       "       [0.64035489],\n",
       "       [0.62821983],\n",
       "       [0.62581563],\n",
       "       [0.62587293],\n",
       "       [0.62839155],\n",
       "       [0.63222668],\n",
       "       [0.64241557],\n",
       "       [0.65248995],\n",
       "       [0.67126499],\n",
       "       [0.68299941],\n",
       "       [0.6978821 ],\n",
       "       [0.70206067],\n",
       "       [0.69353173],\n",
       "       [0.67195194],\n",
       "       [0.66164855],\n",
       "       [0.64464797],\n",
       "       [0.67624501],\n",
       "       [0.66033203],\n",
       "       [0.69089869],\n",
       "       [0.67618772],\n",
       "       [0.64207214],\n",
       "       [0.64413282],\n",
       "       [0.64487689],\n",
       "       [0.65437892],\n",
       "       [0.64081283],\n",
       "       [0.6587292 ],\n",
       "       [0.66674299],\n",
       "       [0.65661131],\n",
       "       [0.68254147],\n",
       "       [0.68706356],\n",
       "       [0.69576412],\n",
       "       [0.70732683],\n",
       "       [0.72329711],\n",
       "       [0.69994278],\n",
       "       [0.67876354],\n",
       "       [0.67578708],\n",
       "       [0.69353173],\n",
       "       [0.63337149],\n",
       "       [0.62243844],\n",
       "       [0.66628505],\n",
       "       [0.63909558],\n",
       "       [0.66651398],\n",
       "       [0.66101889],\n",
       "       [0.63142531],\n",
       "       [0.65025756],\n",
       "       [0.65792783],\n",
       "       [0.66983396],\n",
       "       [0.62610186],\n",
       "       [0.6530624 ],\n",
       "       [0.63302805],\n",
       "       [0.60978823],\n",
       "       [0.61585576],\n",
       "       [0.64768173],\n",
       "       [0.66691471],\n",
       "       [0.58254147],\n",
       "       [0.54882653],\n",
       "       [0.56130511],\n",
       "       [0.59668   ],\n",
       "       [0.58832286],\n",
       "       [0.56531196],\n",
       "       [0.50635373],\n",
       "       [0.49524897],\n",
       "       [0.46416715],\n",
       "       [0.49055525],\n",
       "       [0.50269031],\n",
       "       [0.45878649],\n",
       "       [0.40795647],\n",
       "       [0.40681166],\n",
       "       [0.38111043],\n",
       "       [0.39444759],\n",
       "       [0.39227249],\n",
       "       [0.43062393],\n",
       "       [0.42266744],\n",
       "       [0.41711506],\n",
       "       [0.45283346],\n",
       "       [0.40629652],\n",
       "       [0.39502004],\n",
       "       [0.35935893],\n",
       "       [0.36571268],\n",
       "       [0.3601603 ],\n",
       "       [0.36285063],\n",
       "       [0.37344016],\n",
       "       [0.34212934],\n",
       "       [0.33331426],\n",
       "       [0.34550662],\n",
       "       [0.31585575],\n",
       "       [0.29261592],\n",
       "       [0.25769889],\n",
       "       [0.23537494],\n",
       "       [0.29456209],\n",
       "       [0.28872349],\n",
       "       [0.28918143],\n",
       "       [0.29782487],\n",
       "       [0.29885517],\n",
       "       [0.20881513],\n",
       "       [0.24356036],\n",
       "       [0.24167139],\n",
       "       [0.25781339],\n",
       "       [0.27246707],\n",
       "       [0.27527191],\n",
       "       [0.26662847],\n",
       "       [0.25352032],\n",
       "       [0.27109334],\n",
       "       [0.28179738],\n",
       "       [0.28706354],\n",
       "       [0.29255871],\n",
       "       [0.27240986],\n",
       "       [0.27595877],\n",
       "       [0.26897537],\n",
       "       [0.29793929],\n",
       "       [0.28958216],\n",
       "       [0.28030906],\n",
       "       [0.34081282],\n",
       "       [0.34762451],\n",
       "       [0.34808245],\n",
       "       [0.37515741],\n",
       "       [0.39192897],\n",
       "       [0.39227249],\n",
       "       [0.37338295],\n",
       "       [0.37034919],\n",
       "       [0.36473951],\n",
       "       [0.37309673],\n",
       "       [0.36903258],\n",
       "       [0.37258158],\n",
       "       [0.3704064 ],\n",
       "       [0.37332565],\n",
       "       [0.3796222 ],\n",
       "       [0.37406982],\n",
       "       [0.38500286],\n",
       "       [0.3922152 ],\n",
       "       [0.39278764],\n",
       "       [0.39587862],\n",
       "       [0.38603316],\n",
       "       [0.39645106],\n",
       "       [0.4014883 ],\n",
       "       [0.39965654],\n",
       "       [0.39387523],\n",
       "       [0.38231253],\n",
       "       [0.38465943],\n",
       "       [0.41894673],\n",
       "       [0.43045222],\n",
       "       [0.43503151],\n",
       "       [0.44659413],\n",
       "       [0.46027472],\n",
       "       [0.47115056],\n",
       "       [0.46262162],\n",
       "       [0.47195193],\n",
       "       [0.51161989],\n",
       "       [0.48849457],\n",
       "       [0.47527192],\n",
       "       [0.46410986],\n",
       "       [0.47372639],\n",
       "       [0.47515741],\n",
       "       [0.48219803],\n",
       "       [0.48958216],\n",
       "       [0.50549515],\n",
       "       [0.51310821],\n",
       "       [0.51505438],\n",
       "       [0.52255294],\n",
       "       [0.54029768],\n",
       "       [0.53686319],\n",
       "       [0.54327415],\n",
       "       [0.53371491],\n",
       "       [0.53325698],\n",
       "       [0.53531765],\n",
       "       [0.53543216],\n",
       "       [0.55764169],\n",
       "       [0.56182026],\n",
       "       [0.56565539],\n",
       "       [0.58254147],\n",
       "       [0.5807098 ],\n",
       "       [0.56994847],\n",
       "       [0.56433887],\n",
       "       [0.56611333],\n",
       "       [0.54356037],\n",
       "       [0.59994277],\n",
       "       [0.5921007 ],\n",
       "       [0.60698339],\n",
       "       [0.58826556],\n",
       "       [0.55609616],\n",
       "       [0.55632508],\n",
       "       [0.54384659],\n",
       "       [0.52358324],\n",
       "       [0.45798512],\n",
       "       [0.47481398],\n",
       "       [0.48775041],\n",
       "       [0.48294219],\n",
       "       [0.47676015],\n",
       "       [0.44293071],\n",
       "       [0.46302235],\n",
       "       [0.44115625],\n",
       "       [0.4232971 ],\n",
       "       [0.41934745],\n",
       "       [0.41511159],\n",
       "       [0.41024616],\n",
       "       [0.41551232],\n",
       "       [0.39702351],\n",
       "       [0.38689183],\n",
       "       [0.42318259],\n",
       "       [0.43978244],\n",
       "       [0.45512307],\n",
       "       [0.48334283],\n",
       "       [0.49725244],\n",
       "       [0.51001715],\n",
       "       [0.50646824],\n",
       "       [0.50623922],\n",
       "       [0.49816831],\n",
       "       [0.50475099],\n",
       "       [0.53085286],\n",
       "       [0.52753288],\n",
       "       [0.53663426],\n",
       "       [0.53274183],\n",
       "       [0.53159703],\n",
       "       [0.51436752],\n",
       "       [0.53858043],\n",
       "       [0.538237  ],\n",
       "       [0.5278191 ],\n",
       "       [0.5485976 ],\n",
       "       [0.555352  ],\n",
       "       [0.56496853],\n",
       "       [0.56393815],\n",
       "       [0.53983974],\n",
       "       [0.54682315],\n",
       "       [0.55821405],\n",
       "       [0.54974241],\n",
       "       [0.55861478],\n",
       "       [0.56954782],\n",
       "       [0.56548368],\n",
       "       [0.558901  ],\n",
       "       [0.57212365],\n",
       "       [0.55455063],\n",
       "       [0.58105323],\n",
       "       [0.59032624],\n",
       "       [0.58935316],\n",
       "       [0.57990843],\n",
       "       [0.58402979],\n",
       "       [0.59513446],\n",
       "       [0.58998281],\n",
       "       [0.61436744],\n",
       "       [0.58797934],\n",
       "       [0.56273613],\n",
       "       [0.50160272],\n",
       "       [0.52255294],\n",
       "       [0.53423006],\n",
       "       [0.55935885],\n",
       "       [0.54539212],\n",
       "       [0.54247278],\n",
       "       [0.5910704 ],\n",
       "       [0.5554665 ],\n",
       "       [0.5496852 ],\n",
       "       [0.57693187],\n",
       "       [0.59896969],\n",
       "       [0.5990269 ],\n",
       "       [0.61207783],\n",
       "       [0.61104754],\n",
       "       [0.55483685],\n",
       "       [0.57687466],\n",
       "       [0.5635375 ],\n",
       "       [0.57137949],\n",
       "       [0.59129933],\n",
       "       [0.58975388],\n",
       "       [0.57235258],\n",
       "       [0.59232971],\n",
       "       [0.61574125],\n",
       "       [0.61562675],\n",
       "       [0.6208357 ],\n",
       "       [0.63531766],\n",
       "       [0.67475669],\n",
       "       [0.67189464],\n",
       "       [0.64705208],\n",
       "       [0.65363476],\n",
       "       [0.65821405],\n",
       "       [0.67006298],\n",
       "       [0.65970237],\n",
       "       [0.64121347],\n",
       "       [0.64688036],\n",
       "       [0.64092725],\n",
       "       [0.66010301],\n",
       "       [0.65357755],\n",
       "       [0.64745281],\n",
       "       [0.67693188],\n",
       "       [0.68048079],\n",
       "       [0.64825418],\n",
       "       [0.658901  ],\n",
       "       [0.6943331 ],\n",
       "       [0.69461932],\n",
       "       [0.6793932 ],\n",
       "       [0.6944476 ],\n",
       "       [0.71196333],\n",
       "       [0.74699487],\n",
       "       [0.74504861],\n",
       "       [0.74190043],\n",
       "       [0.73646247],\n",
       "       [0.74167142],\n",
       "       [0.74813967],\n",
       "       [0.77160843],\n",
       "       [0.76846024],\n",
       "       [0.78689176],\n",
       "       [0.78918145],\n",
       "       [0.80635374],\n",
       "       [0.82049227],\n",
       "       [0.78752141],\n",
       "       [0.7873497 ],\n",
       "       [0.81883224],\n",
       "       [0.85924444],\n",
       "       [0.86886089],\n",
       "       [0.866743  ],\n",
       "       [0.86737257],\n",
       "       [0.87990835],\n",
       "       [0.88397259],\n",
       "       [0.89576422],\n",
       "       [0.89439032],\n",
       "       [0.90875786],\n",
       "       [0.89828284],\n",
       "       [0.91614199],\n",
       "       [0.92381227],\n",
       "       [0.91917576],\n",
       "       [0.90143102],\n",
       "       [0.89467663],\n",
       "       [0.89336002],\n",
       "       [0.91963361],\n",
       "       [0.90772756],\n",
       "       [0.92804804],\n",
       "       [0.92467085],\n",
       "       [0.9069834 ],\n",
       "       [0.88002295],\n",
       "       [0.89313101],\n",
       "       [0.91511152],\n",
       "       [0.94447618],\n",
       "       [0.92278197],\n",
       "       [0.93171155],\n",
       "       [0.94481961],\n",
       "       [0.94876925],\n",
       "       [0.96989119],\n",
       "       [0.99685164],\n",
       "       [1.        ],\n",
       "       [0.99616478],\n",
       "       [0.99776752],\n",
       "       [0.99444762]])"
      ]
     },
     "execution_count": 32,
     "metadata": {},
     "output_type": "execute_result"
    }
   ],
   "source": [
    "input_data=scaler.fit_transform(final_spy)\n",
    "input_data"
   ]
  },
  {
   "cell_type": "code",
   "execution_count": 33,
   "id": "2109c689",
   "metadata": {},
   "outputs": [
    {
     "data": {
      "text/plain": [
       "(792, 1)"
      ]
     },
     "execution_count": 33,
     "metadata": {},
     "output_type": "execute_result"
    }
   ],
   "source": [
    "input_data.shape"
   ]
  },
  {
   "cell_type": "code",
   "execution_count": 34,
   "id": "be528415",
   "metadata": {},
   "outputs": [],
   "source": [
    "x_test=[]\n",
    "y_test=[]\n",
    "\n",
    "for i in range(100, input_data.shape[0]):\n",
    "    x_test.append(input_data[i-100:i])\n",
    "    y_test.append(input_data[i,0])"
   ]
  },
  {
   "cell_type": "code",
   "execution_count": 35,
   "id": "7f70846b",
   "metadata": {},
   "outputs": [
    {
     "name": "stdout",
     "output_type": "stream",
     "text": [
      "(692, 100, 1)\n",
      "(692,)\n"
     ]
    }
   ],
   "source": [
    "x_test, y_test=np.array(x_test), np.array(y_test)\n",
    "print(x_test.shape)\n",
    "print(y_test.shape)"
   ]
  },
  {
   "cell_type": "code",
   "execution_count": 36,
   "id": "464c63b0",
   "metadata": {},
   "outputs": [
    {
     "name": "stdout",
     "output_type": "stream",
     "text": [
      "\u001b[1m22/22\u001b[0m \u001b[32m━━━━━━━━━━━━━━━━━━━━\u001b[0m\u001b[37m\u001b[0m \u001b[1m3s\u001b[0m 100ms/step\n"
     ]
    }
   ],
   "source": [
    "# Making predictions\n",
    "\n",
    "y_predicted = model.predict(x_test)"
   ]
  },
  {
   "cell_type": "code",
   "execution_count": 37,
   "id": "57a0bce5",
   "metadata": {},
   "outputs": [
    {
     "data": {
      "text/plain": [
       "(692, 1)"
      ]
     },
     "execution_count": 37,
     "metadata": {},
     "output_type": "execute_result"
    }
   ],
   "source": [
    "y_predicted.shape"
   ]
  },
  {
   "cell_type": "code",
   "execution_count": 38,
   "id": "a2d67bdb",
   "metadata": {},
   "outputs": [
    {
     "data": {
      "text/plain": [
       "array([0.02289639])"
      ]
     },
     "execution_count": 38,
     "metadata": {},
     "output_type": "execute_result"
    }
   ],
   "source": [
    "scaler.scale_"
   ]
  },
  {
   "cell_type": "code",
   "execution_count": 39,
   "id": "8939537c",
   "metadata": {},
   "outputs": [],
   "source": [
    "scale_factor=1/0.02289639\n",
    "y_predicted=y_predicted*scale_factor\n",
    "y_test=y_test*scale_factor"
   ]
  },
  {
   "cell_type": "code",
   "execution_count": 40,
   "id": "4ba2d145",
   "metadata": {},
   "outputs": [
    {
     "data": {
      "text/plain": [
       "<function matplotlib.pyplot.show(close=None, block=None)>"
      ]
     },
     "execution_count": 40,
     "metadata": {},
     "output_type": "execute_result"
    },
    {
     "data": {
      "image/png": "[encoded data removed]",
      "text/plain": [
       "<Figure size 1200x600 with 1 Axes>"
      ]
     },
     "metadata": {},
     "output_type": "display_data"
    }
   ],
   "source": [
    "plt.figure(figsize=(12,6))\n",
    "plt.plot(y_test, 'b', label='Original Price')\n",
    "plt.plot(y_predicted, 'r', label='Predicted Price')\n",
    "plt.xlabel('Time')\n",
    "plt.ylabel('Price')\n",
    "plt.legend()\n",
    "plt.show"
   ]
  },
  {
   "cell_type": "code",
   "execution_count": null,
   "id": "b910995b",
   "metadata": {},
   "outputs": [],
   "source": []
  }
 ],
 "metadata": {
  "kernelspec": {
   "display_name": "Python 3 (ipykernel)",
   "language": "python",
   "name": "python3"
  },
  "language_info": {
   "codemirror_mode": {
    "name": "ipython",
    "version": 3
   },
   "file_extension": ".py",
   "mimetype": "text/x-python",
   "name": "python",
   "nbconvert_exporter": "python",
   "pygments_lexer": "ipython3",
   "version": "3.12.0"
  }
 },
 "nbformat": 4,
 "nbformat_minor": 5
}
